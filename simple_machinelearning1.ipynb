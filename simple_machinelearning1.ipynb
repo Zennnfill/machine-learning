{
 "cells": [
  {
   "cell_type": "code",
   "execution_count": 3,
   "metadata": {},
   "outputs": [
    {
     "name": "stdout",
     "output_type": "stream",
     "text": [
      "mnist/\n",
      "mnist/train-labels.idx1-ubyte\n",
      "mnist/train-images.idx3-ubyte\n",
      "mnist/t10k-labels.idx1-ubyte\n",
      "mnist/t10k-images.idx3-ubyte\n"
     ]
    }
   ],
   "source": [
    "import requests\n",
    "import zipfile\n",
    "import numpy as np\n",
    "import pandas as pd\n",
    "import datetime\n",
    "url = 'http://labfile.oss.aliyuncs.com/courses/1213/mnist.zip'\n",
    "local_filename = url.split('/')[-1]  \n",
    "with requests.get(url, stream=True) as r:\n",
    "    with open(local_filename, 'wb') as f:\n",
    "        for chunk in r.iter_content(chunk_size=8192):\n",
    "            f.write(chunk)\n",
    "\n",
    "with zipfile.ZipFile(local_filename, 'r') as zip_ref:\n",
    "    zip_ref.extractall('.')\n",
    "    extracted_files = zip_ref.namelist()\n",
    "\n",
    "for file in extracted_files:\n",
    "    print(file)\n"
   ]
  },
  {
   "cell_type": "code",
   "execution_count": 4,
   "metadata": {},
   "outputs": [],
   "source": [
    "from sklearn.preprocessing import OneHotEncoder\n",
    "import math"
   ]
  },
  {
   "cell_type": "code",
   "execution_count": 5,
   "metadata": {},
   "outputs": [
    {
     "data": {
      "text/plain": [
       "<matplotlib.image.AxesImage at 0x2a2c9283760>"
      ]
     },
     "execution_count": 5,
     "metadata": {},
     "output_type": "execute_result"
    },
    {
     "data": {
      "image/png": "[encoded data removed]",
      "text/plain": [
       "<Figure size 432x288 with 1 Axes>"
      ]
     },
     "metadata": {
      "needs_background": "light"
     },
     "output_type": "display_data"
    }
   ],
   "source": [
    "import struct\n",
    "import numpy as np\n",
    "\n",
    "\n",
    "def read_mnist(filename):\n",
    "    with open(filename, 'rb') as f:\n",
    "        zero, data_type, dims = struct.unpack('>HBB', f.read(4))\n",
    "        shape = tuple(struct.unpack('>I', f.read(4))[0] for d in range(dims))\n",
    "        return np.frombuffer(f.read(), dtype=np.uint8).reshape(shape)\n",
    "\n",
    "\n",
    "mnist_test_data = read_mnist('mnist/t10k-images.idx3-ubyte')\n",
    "mnist_train_data = read_mnist('mnist/train-images.idx3-ubyte')\n",
    "mnist_train_labels = read_mnist('mnist/train-labels.idx1-ubyte')\n",
    "mnist_test_labels = read_mnist('mnist/t10k-labels.idx1-ubyte')\n",
    "\n",
    "import matplotlib.pyplot as plt\n",
    "\n",
    "plt.imshow(mnist_test_data[0, :, :])"
   ]
  },
  {
   "cell_type": "code",
   "execution_count": 6,
   "metadata": {},
   "outputs": [
    {
     "data": {
      "text/plain": [
       "((60000, 784), (10000, 784))"
      ]
     },
     "execution_count": 6,
     "metadata": {},
     "output_type": "execute_result"
    }
   ],
   "source": [
    "labels = [[1], [2], [3]]  \n",
    "encoder = OneHotEncoder()\n",
    "encoder.fit_transform(labels).toarray()\n",
    "encoder.fit(np.arange(10).reshape((-1, 1)))  #hotencoder for dataset\n",
    "\n",
    "mnist_test_labels = encoder.transform(np.reshape(\n",
    "    mnist_test_labels, (-1, 1))).toarray()  \n",
    "\n",
    "mnist_train_labels = encoder.transform(np.reshape(\n",
    "    mnist_train_labels, (-1, 1))).toarray()  \n",
    "\n",
    "\n",
    "mnist_train_data = (np.reshape(\n",
    "    mnist_train_data, (mnist_train_data.shape[0], -1))-127.0)/255.0\n",
    "\n",
    "mnist_test_data = (np.reshape(\n",
    "    mnist_test_data, (mnist_test_data.shape[0], -1))-127.0)/255.0\n",
    "\n",
    "mnist_train_data.shape, mnist_test_data.shape"
   ]
  },
  {
   "cell_type": "code",
   "execution_count": 7,
   "metadata": {},
   "outputs": [],
   "source": [
    "def softmax(input):\n",
    "    assert len(input.shape) == 2 \n",
    "    exp_value = np.exp(input)  \n",
    "    output = exp_value/np.sum(exp_value, axis=1)[:, np.newaxis]  \n",
    "    return output\n",
    "\n",
    "test_data = np.array([[3.2, 5.1, -1.7]])\n",
    "\n",
    "N, C = 100, 3\n",
    "test_data = np.random.randn(N, C) \n",
    "\n",
    "test_labels = encoder.fit_transform(np.random.randint(0, C, (N, 1))).toarray()\n",
    "prob = softmax(test_data)  \n",
    "\n",
    "loss = np.sum(-np.log(prob) * test_labels) / N\n"
   ]
  },
  {
   "cell_type": "code",
   "execution_count": 35,
   "metadata": {},
   "outputs": [
    {
     "data": {
      "application/vnd.jupyter.widget-view+json": {
       "model_id": "64f177a1bfaa45328ddcd27cd93bd76e",
       "version_major": 2,
       "version_minor": 0
      },
      "text/plain": [
       "  0%|          | 0/900 [00:00<?, ?it/s]"
      ]
     },
     "metadata": {},
     "output_type": "display_data"
    },
    {
     "data": {
      "text/plain": [
       "[<matplotlib.lines.Line2D at 0x2a2c9959370>]"
      ]
     },
     "execution_count": 35,
     "metadata": {},
     "output_type": "execute_result"
    },
    {
     "data": {
      "image/png": "[encoded data removed]",
      "text/plain": [
       "<Figure size 432x288 with 1 Axes>"
      ]
     },
     "metadata": {
      "needs_background": "light"
     },
     "output_type": "display_data"
    }
   ],
   "source": [
    "class lr_scheduler(object):\n",
    "    def __init__(self, base_lr, step_size, deacy_factor=0.1):\n",
    "        self.base_lr = base_lr \n",
    "        self.deacy_factor = deacy_factor  \n",
    "        self.step_count = 0  \n",
    "        self.lr = base_lr \n",
    "        self.step_size = step_size  \n",
    "\n",
    "    def step(self, step_count=1):  \n",
    "        self.step_count += step_count\n",
    "\n",
    "    def get_lr(self):\n",
    "        self.lr = self.base_lr * \\\n",
    "            (self.deacy_factor**(self.step_count//self.step_size)) \n",
    "        return self.lr\n",
    "\n",
    "\n",
    "\n",
    "class CrossEntropyLossLayer():\n",
    "    def __init__(self):\n",
    "        pass\n",
    "\n",
    "    def forward(self, input, labels):\n",
    "        assert len(input.shape) == 2, 'input muet be a two-d array'\n",
    "        assert len(labels.shape) == 2, 'input label mut be indepentended encroded'\n",
    "        assert labels.shape == input.shape, 'the label and the input must habe same number'\n",
    "        self.data = input\n",
    "        self.labels = labels\n",
    "        self.prob = np.clip(softmax(input), 1e-9, 1.0)  \n",
    "        loss = -np.sum(np.multiply(self.labels, np.log(self.prob))\n",
    "                       )/self.labels.shape[0]\n",
    "        return loss\n",
    "\n",
    "    def backward(self):\n",
    "        self.grad = (self.prob - self.labels)/self.labels.shape[0]\n",
    "\n",
    "N, C = 10, 3\n",
    "\n",
    "pred_prob = np.random.randn(N, C) \n",
    "labels = encoder.fit_transform(\n",
    "    np.random.randint(0, C, (N, 1))).toarray()  \n",
    "\n",
    "loss_layer = CrossEntropyLossLayer()\n",
    "loss = loss_layer.forward(pred_prob, labels)\n",
    "loss_layer.backward()\n",
    "loss, loss_layer.grad\n",
    "\n",
    "from tqdm.notebook import tqdm\n",
    "\n",
    "D_in, D_out = 784, 10\n",
    "\n",
    "base_lr = 0.1\n",
    "\n",
    "max_iter = 900\n",
    "\n",
    "step_size = 400\n",
    "\n",
    "scheduler = lr_scheduler(base_lr, step_size)\n",
    "W = np.random.randn(D_in, D_out)*0.01  \n",
    "\n",
    "best_acc = -float('inf')\n",
    "best_weight = None  \n",
    "loss_list = []\n",
    "for _ in tqdm(range(max_iter)):\n",
    "    test_pred = np.dot(mnist_test_data, W)\n",
    "    pred_labels = np.argmax(test_pred, axis=1)\n",
    "    real_labels = np.argmax(mnist_test_labels, axis=1)\n",
    "    acc = np.mean(pred_labels == real_labels)\n",
    "    if acc > best_acc:\n",
    "        best_acc = acc\n",
    "        best_weight = W  \n",
    "    train_pred = np.dot(mnist_train_data, W)\n",
    "    loss = loss_layer.forward(train_pred, mnist_train_labels)\n",
    "    loss_list.append(loss/mnist_train_data.shape[0])  \n",
    "    loss_layer.backward()\n",
    "    grad = np.dot(mnist_train_data.T, loss_layer.grad)\n",
    "    W -= scheduler.get_lr()*grad\n",
    "    scheduler.step()\n",
    "\n",
    "plt.plot(list(range(max_iter)), loss_list)"
   ]
  },
  {
   "cell_type": "code",
   "execution_count": 47,
   "metadata": {},
   "outputs": [
    {
     "data": {
      "text/plain": [
       "array([1], dtype=int64)"
      ]
     },
     "execution_count": 47,
     "metadata": {},
     "output_type": "execute_result"
    },
    {
     "data": {
      "image/png": "[encoded data removed]",
      "text/plain": [
       "<Figure size 432x288 with 1 Axes>"
      ]
     },
     "metadata": {
      "needs_background": "light"
     },
     "output_type": "display_data"
    }
   ],
   "source": [
    "import random\n",
    "test_index = random.randint(0, mnist_test_data.shape[0]-1)\n",
    "test_img = mnist_test_data[test_index, :]\n",
    "plt.imshow(test_img.reshape((28, 28)))\n",
    "prob = softmax(np.dot(test_img[np.newaxis, :], W)) \n",
    "np.argmax(prob, axis=1)  "
   ]
  }
 ],
 "metadata": {
  "kernelspec": {
   "display_name": "base",
   "language": "python",
   "name": "python3"
  },
  "language_info": {
   "codemirror_mode": {
    "name": "ipython",
    "version": 3
   },
   "file_extension": ".py",
   "mimetype": "text/x-python",
   "name": "python",
   "nbconvert_exporter": "python",
   "pygments_lexer": "ipython3",
   "version": "3.9.12"
  }
 },
 "nbformat": 4,
 "nbformat_minor": 2
}
